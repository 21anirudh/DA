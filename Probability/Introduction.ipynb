{
  "nbformat": 4,
  "nbformat_minor": 0,
  "metadata": {
    "colab": {
      "provenance": [],
      "authorship_tag": "ABX9TyOY5rd26MsPYQC/kDgMCrzT",
      "include_colab_link": true
    },
    "kernelspec": {
      "name": "python3",
      "display_name": "Python 3"
    },
    "language_info": {
      "name": "python"
    }
  },
  "cells": [
    {
      "cell_type": "markdown",
      "metadata": {
        "id": "view-in-github",
        "colab_type": "text"
      },
      "source": [
        "<a href=\"https://colab.research.google.com/github/21anirudh/DA/blob/main/Probability.ipynb\" target=\"_parent\"><img src=\"https://colab.research.google.com/assets/colab-badge.svg\" alt=\"Open In Colab\"/></a>"
      ]
    },
    {
      "cell_type": "code",
      "execution_count": 1,
      "metadata": {
        "id": "3XGt97YyEdQt"
      },
      "outputs": [],
      "source": [
        "import numpy as np"
      ]
    },
    {
      "cell_type": "code",
      "source": [
        "n_tosses = 1000000000\n",
        "tosses = np.random.randint(0,2,n_tosses) # 1: RCB wins, 0: RR wins"
      ],
      "metadata": {
        "id": "TkJqUXIrHyoE"
      },
      "execution_count": 20,
      "outputs": []
    },
    {
      "cell_type": "code",
      "source": [
        "# According to frequency interpretation of probability,\n",
        "# P(A): #1's in the tosses array/ size of tosses array\n",
        "\n",
        "prob_A = int(sum(tosses))/len(tosses)\n",
        "prob_A"
      ],
      "metadata": {
        "colab": {
          "base_uri": "https://localhost:8080/"
        },
        "id": "_zX4AxjoH1zK",
        "outputId": "e926845f-9b96-4d9e-9236-6b84e04c5531"
      },
      "execution_count": 21,
      "outputs": [
        {
          "output_type": "execute_result",
          "data": {
            "text/plain": [
              "0.500020541"
            ]
          },
          "metadata": {},
          "execution_count": 21
        }
      ]
    },
    {
      "cell_type": "code",
      "source": [],
      "metadata": {
        "id": "kKOplq7sIqH7"
      },
      "execution_count": null,
      "outputs": []
    }
  ]
}
